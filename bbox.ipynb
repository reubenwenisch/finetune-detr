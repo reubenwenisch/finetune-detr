{
 "cells": [
  {
   "cell_type": "code",
   "execution_count": null,
   "metadata": {},
   "outputs": [],
   "source": [
    "image_id1 = 911\n",
    "image_id2 = 105\n",
    "image_id3 = 1395\n",
    "image_id4 = 1120\n",
    "image_id5 = 1390\n",
    "image_id6 = 689\n",
    "image_id7 = 1264\n",
    "image_id8 = 662"
   ]
  },
  {
   "cell_type": "code",
   "execution_count": null,
   "metadata": {},
   "outputs": [],
   "source": [
    "file_name = {\n",
    "    \"file_name1\" : \"0047.jpg\",\n",
    "    \"file_name2\" : \"0200.jpg\",\n",
    "    \"file_name3\" : \"00303.jpg\",\n",
    "    \"file_name4\" : \"22-203.jpg\",      \n",
    "    \"file_name5\" : \"764-11.jpg\",\n",
    "    \"file_name6\" : \"00080.jpg\",\n",
    "    \"file_name7\" : \"00269.jpg\",\n",
    "    \"file_name8\" : \"001142.jpg\"}"
   ]
  },
  {
   "cell_type": "code",
   "execution_count": 3,
   "metadata": {},
   "outputs": [
    {
     "name": "stderr",
     "output_type": "stream",
     "text": [
      "/home/reuben/anaconda3/envs/pytorch/lib/python3.10/site-packages/tqdm/auto.py:22: TqdmWarning: IProgress not found. Please update jupyter and ipywidgets. See https://ipywidgets.readthedocs.io/en/stable/user_install.html\n",
      "  from .autonotebook import tqdm as notebook_tqdm\n"
     ]
    }
   ],
   "source": [
    "from pathlib import Path\n",
    "from PIL import Image\n",
    "import numpy as np\n",
    "import torch\n",
    "from panopticapi.utils import rgb2id\n",
    "from util.box_ops import masks_to_boxes\n",
    "import json\n",
    "\n",
    "coco_path = \"/home/reuben/Atom360/Learning/data/dataset/images\"\n",
    "coco_panoptic_path = \"panoptic/\"\n",
    "idx = 711"
   ]
  },
  {
   "cell_type": "code",
   "execution_count": 7,
   "metadata": {},
   "outputs": [],
   "source": [
    "image_set='train'\n",
    "\n",
    "img_folder_root = Path(coco_path)\n",
    "ann_folder_root = Path(coco_panoptic_path)\n",
    "assert img_folder_root.exists(), f'provided COCO path {img_folder_root} does not exist'\n",
    "assert ann_folder_root.exists(), f'provided COCO path {ann_folder_root} does not exist'\n",
    "mode = 'panoptic'   \n",
    "PATHS = {\n",
    "        \"train\": (\"train2017\", Path(\"annotations\") / f'{mode}_train2017.json'),\n",
    "        \"val\": (\"val2017\", Path(\"annotations\") / f'{mode}_val2017.json'),\n",
    "    }\n",
    "\n",
    "img_folder, ann_file = PATHS[image_set]\n",
    "img_folder_path = img_folder_root #/ img_folder\n",
    "ann_folder = ann_folder_root / f'{mode}_{img_folder}'\n",
    "ann_file = ann_folder_root / ann_file"
   ]
  },
  {
   "cell_type": "code",
   "execution_count": 8,
   "metadata": {},
   "outputs": [
    {
     "name": "stderr",
     "output_type": "stream",
     "text": [
      "/home/reuben/anaconda3/envs/pytorch/lib/python3.10/site-packages/torch/functional.py:568: UserWarning: torch.meshgrid: in an upcoming release, it will be required to pass the indexing argument. (Triggered internally at  /opt/conda/conda-bld/pytorch_1646755897462/work/aten/src/ATen/native/TensorShape.cpp:2228.)\n",
      "  return _VF.meshgrid(tensors, **kwargs)  # type: ignore[attr-defined]\n"
     ]
    }
   ],
   "source": [
    "with open(ann_file, 'r') as f:\n",
    "    coco_ann = json.load(f)\n",
    "ann_info = coco_ann['annotations'][idx] if \"annotations\" in coco_ann else coco_ann['images'][idx]\n",
    "img_path = Path(img_folder_path) / ann_info['file_name'].replace('.png', '.jpg')\n",
    "ann_path = Path(ann_folder) / ann_info['file_name']\n",
    "img = Image.open(img_path).convert('RGB')\n",
    "w, h = img.size\n",
    "if \"segments_info\" in ann_info:\n",
    "    masks = np.asarray(Image.open(ann_path), dtype=np.uint32)\n",
    "    masks = rgb2id(masks)\n",
    "    ids = np.array([ann['id'] for ann in ann_info['segments_info']])\n",
    "    masks = masks == ids[:, None, None]\n",
    "    masks = torch.as_tensor(masks, dtype=torch.uint8)\n",
    "    # labels = torch.tensor([ann['category_id'] for ann in ann_info['segments_info']], dtype=torch.int64\n",
    "target = {}\n",
    "target['image_id'] = torch.tensor([ann_info['image_id'] if \"image_id\" in ann_info else ann_info[\"id\"]])\n",
    "# if self.return_masks:\n",
    "target['masks'] = masks\n",
    "# target['labels'] = label\n",
    "target[\"boxes\"] = masks_to_boxes(masks)"
   ]
  },
  {
   "cell_type": "code",
   "execution_count": 19,
   "metadata": {},
   "outputs": [
    {
     "name": "stdout",
     "output_type": "stream",
     "text": [
      "CLASSES [11829830]\n",
      "[557]\n"
     ]
    },
    {
     "data": {
      "text/plain": [
       "<matplotlib.image.AxesImage at 0x7f96c9f1ee30>"
      ]
     },
     "execution_count": 19,
     "metadata": {},
     "output_type": "execute_result"
    },
    {
     "data": {
      "image/png": "[encoded data removed]",
      "text/plain": [
       "<Figure size 432x288 with 1 Axes>"
      ]
     },
     "metadata": {
      "needs_background": "light"
     },
     "output_type": "display_data"
    }
   ],
   "source": [
    "import matplotlib.pyplot as plt\n",
    "\n",
    "masks = np.asarray(Image.open(ann_path), dtype=np.uint32)\n",
    "masks = rgb2id(masks)\n",
    "print(\"CLASSES\", np.unique(masks))\n",
    "print(np.array([ann['id'] for ann in ann_info['segments_info']]))\n",
    "plt.imshow(masks)"
   ]
  },
  {
   "cell_type": "code",
   "execution_count": 12,
   "metadata": {},
   "outputs": [
    {
     "data": {
      "text/plain": [
       "torch.Size([1, 764, 1194])"
      ]
     },
     "execution_count": 12,
     "metadata": {},
     "output_type": "execute_result"
    }
   ],
   "source": [
    "masks.shape"
   ]
  },
  {
   "cell_type": "code",
   "execution_count": 11,
   "metadata": {},
   "outputs": [
    {
     "data": {
      "text/plain": [
       "tensor([[[0, 0, 0,  ..., 0, 0, 0],\n",
       "         [0, 0, 0,  ..., 0, 0, 0],\n",
       "         [0, 0, 0,  ..., 0, 0, 0],\n",
       "         ...,\n",
       "         [0, 0, 0,  ..., 0, 0, 0],\n",
       "         [0, 0, 0,  ..., 0, 0, 0],\n",
       "         [0, 0, 0,  ..., 0, 0, 0]]], dtype=torch.uint8)"
      ]
     },
     "execution_count": 11,
     "metadata": {},
     "output_type": "execute_result"
    }
   ],
   "source": [
    "\n",
    "plt.imshow(masks)"
   ]
  },
  {
   "cell_type": "code",
   "execution_count": null,
   "metadata": {},
   "outputs": [],
   "source": []
  }
 ],
 "metadata": {
  "interpreter": {
   "hash": "aff87670e6813295dff0e1f43616bab19c9147ee8d3021bc103ca06c71f4204b"
  },
  "kernelspec": {
   "display_name": "Python 3.10.4 ('pytorch')",
   "language": "python",
   "name": "python3"
  },
  "language_info": {
   "codemirror_mode": {
    "name": "ipython",
    "version": 3
   },
   "file_extension": ".py",
   "mimetype": "text/x-python",
   "name": "python",
   "nbconvert_exporter": "python",
   "pygments_lexer": "ipython3",
   "version": "3.10.4"
  },
  "orig_nbformat": 4
 },
 "nbformat": 4,
 "nbformat_minor": 2
}
