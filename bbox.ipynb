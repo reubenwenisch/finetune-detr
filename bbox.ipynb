{
 "cells": [
  {
   "cell_type": "code",
   "execution_count": null,
   "metadata": {},
   "outputs": [],
   "source": [
    "image_id1 = 911\n",
    "image_id2 = 105\n",
    "image_id3 = 1395\n",
    "image_id4 = 1120\n",
    "image_id5 = 1390\n",
    "image_id6 = 689\n",
    "image_id7 = 1264\n",
    "image_id8 = 662"
   ]
  },
  {
   "cell_type": "code",
   "execution_count": 1,
   "metadata": {},
   "outputs": [],
   "source": [
    "file_name = {\n",
    "    \"file_name1\" : \"0047.jpg\",\n",
    "    \"file_name2\" : \"0200.jpg\",\n",
    "    \"file_name3\" : \"00303.jpg\",\n",
    "    \"file_name4\" : \"22-203.jpg\",      \n",
    "    \"file_name5\" : \"764-11.jpg\",\n",
    "    \"file_name6\" : \"00080.jpg\",\n",
    "    \"file_name7\" : \"00269.jpg\",\n",
    "    \"file_name8\" : \"001142.jpg\"}"
   ]
  },
  {
   "cell_type": "code",
   "execution_count": 43,
   "metadata": {},
   "outputs": [],
   "source": [
    "from pathlib import Path\n",
    "from PIL import Image\n",
    "import numpy as np\n",
    "import torch\n",
    "from panopticapi.utils import rgb2id\n",
    "from util.box_ops import masks_to_boxes\n",
    "import json\n",
    "\n",
    "# \"/home/reuben/Atom360/Learning/data/dataset/images\" \n",
    "coco_path = \"/home/wenisch/Atom360/AI/Learning/data/dataset/images\"\n",
    "coco_panoptic_path = \"panoptic/\"\n",
    "idx = 662"
   ]
  },
  {
   "cell_type": "code",
   "execution_count": 44,
   "metadata": {},
   "outputs": [],
   "source": [
    "image_set='train'\n",
    "\n",
    "img_folder_root = Path(coco_path)\n",
    "ann_folder_root = Path(coco_panoptic_path)\n",
    "assert img_folder_root.exists(), f'provided COCO path {img_folder_root} does not exist'\n",
    "assert ann_folder_root.exists(), f'provided COCO path {ann_folder_root} does not exist'\n",
    "mode = 'panoptic'   \n",
    "PATHS = {\n",
    "        \"train\": (\"train2017\", Path(\"annotations\") / f'{mode}_train2017.json'),\n",
    "        \"val\": (\"val2017\", Path(\"annotations\") / f'{mode}_val2017.json'),\n",
    "    }\n",
    "\n",
    "img_folder, ann_file = PATHS[image_set]\n",
    "img_folder_path = img_folder_root #/ img_folder\n",
    "ann_folder = ann_folder_root / f'{mode}_{img_folder}'\n",
    "ann_file = ann_folder_root / ann_file"
   ]
  },
  {
   "cell_type": "code",
   "execution_count": 45,
   "metadata": {},
   "outputs": [
    {
     "name": "stdout",
     "output_type": "stream",
     "text": [
      "seg info present\n"
     ]
    }
   ],
   "source": [
    "with open(ann_file, 'r') as f:\n",
    "    coco_ann = json.load(f)\n",
    "ann_info = coco_ann['annotations'][idx] if \"annotations\" in coco_ann else coco_ann['images'][idx]\n",
    "img_path = Path(img_folder_path) / ann_info['file_name'].replace('.png', '.jpg')\n",
    "ann_path = Path(ann_folder) / ann_info['file_name']\n",
    "img = Image.open(img_path).convert('RGB')\n",
    "w, h = img.size\n",
    "if \"segments_info\" in ann_info:\n",
    "    print(\"seg info present\")\n",
    "    masks = np.asarray(Image.open(ann_path), dtype=np.uint32)\n",
    "    masks = rgb2id(masks)\n",
    "    ids = np.array([ann['id'] for ann in ann_info['segments_info']])\n",
    "    masks = masks == ids[:, None, None]\n",
    "    masks = torch.as_tensor(masks, dtype=torch.uint8)\n",
    "    # labels = torch.tensor([ann['category_id'] for ann in ann_info['segments_info']], dtype=torch.int64\n",
    "target = {}\n",
    "target['image_id'] = torch.tensor([ann_info['image_id'] if \"image_id\" in ann_info else ann_info[\"id\"]])\n",
    "# if self.return_masks:\n",
    "target['masks'] = masks\n",
    "# target['labels'] = label\n",
    "# target[\"boxes\"] = masks_to_boxes(target['masks'])"
   ]
  },
  {
   "cell_type": "code",
   "execution_count": 64,
   "metadata": {},
   "outputs": [],
   "source": [
    "def masks_to_boxes_final(masks: torch.Tensor) -> torch.Tensor:\n",
    "    \"\"\"\n",
    "    Compute the bounding boxes around the provided masks.\n",
    "\n",
    "    Returns a [N, 4] tensor containing bounding boxes. The boxes are in ``(x1, y1, x2, y2)`` format with\n",
    "    ``0 <= x1 < x2`` and ``0 <= y1 < y2``.\n",
    "\n",
    "    Args:\n",
    "        masks (Tensor[N, H, W]): masks to transform where N is the number of masks\n",
    "            and (H, W) are the spatial dimensions.\n",
    "\n",
    "    Returns:\n",
    "        Tensor[N, 4]: bounding boxes\n",
    "    \"\"\"\n",
    "    if masks.numel() == 0:\n",
    "        return torch.zeros((0, 4), device=masks.device, dtype=torch.float)\n",
    "\n",
    "    n = masks.shape[0]\n",
    "\n",
    "    bounding_boxes = torch.zeros((n, 4), device=masks.device, dtype=torch.float)\n",
    "\n",
    "    for index, mask in enumerate(masks):\n",
    "        y, x = torch.where(mask != 0)\n",
    "        # print(\"len(x)\", len(x))\n",
    "        # print(\"len(y)\", len(y))\n",
    "        if len(x) ==0 and len(y) == 0:\n",
    "            # print(\"continue\")\n",
    "            continue\n",
    "        bounding_boxes[index, 0] = torch.min(x)\n",
    "        bounding_boxes[index, 1] = torch.min(y)\n",
    "        bounding_boxes[index, 2] = torch.max(x)\n",
    "        bounding_boxes[index, 3] = torch.max(y)\n",
    "\n",
    "    return bounding_boxes"
   ]
  },
  {
   "cell_type": "code",
   "execution_count": 65,
   "metadata": {},
   "outputs": [
    {
     "name": "stdout",
     "output_type": "stream",
     "text": [
      "len(x) 1208687\n",
      "len(y) 1208687\n",
      "len(x) 0\n",
      "len(y) 0\n",
      "continue\n"
     ]
    },
    {
     "data": {
      "text/plain": [
       "tensor([[   0.,    0., 1279.,  959.],\n",
       "        [   0.,    0.,    0.,    0.]])"
      ]
     },
     "execution_count": 65,
     "metadata": {},
     "output_type": "execute_result"
    }
   ],
   "source": [
    "target[\"boxes\"] = masks_to_boxes_final(target['masks'])\n",
    "target[\"boxes\"]"
   ]
  },
  {
   "cell_type": "code",
   "execution_count": 90,
   "metadata": {},
   "outputs": [
    {
     "name": "stdout",
     "output_type": "stream",
     "text": [
      "panoptic/panoptic_train2017/1052-4.jpg\n",
      "[11423049  3937500]\n"
     ]
    },
    {
     "data": {
      "text/plain": [
       "array([    2815,   133631,   660971, ..., 14434893, 14501697, 15092534],\n",
       "      dtype=uint32)"
      ]
     },
     "execution_count": 90,
     "metadata": {},
     "output_type": "execute_result"
    }
   ],
   "source": [
    "import matplotlib.pyplot as plt\n",
    "print(ann_path)\n",
    "masks = np.asarray(Image.open(ann_path), dtype=np.uint32)\n",
    "masks = rgb2id(masks)\n",
    "ids = np.array([ann['id'] for ann in ann_info['segments_info']])\n",
    "print(ids)\n",
    "np.unique(masks)"
   ]
  },
  {
   "cell_type": "code",
   "execution_count": null,
   "metadata": {},
   "outputs": [],
   "source": [
    "\n",
    "masks = masks == ids[:, None, None]\n",
    "masks[1]"
   ]
  },
  {
   "cell_type": "code",
   "execution_count": 67,
   "metadata": {},
   "outputs": [
    {
     "name": "stdout",
     "output_type": "stream",
     "text": [
      "CLASSES [    2815   133631   660971 ... 14434893 14501697 15092534]\n",
      "[11423049  3937500]\n"
     ]
    },
    {
     "data": {
      "text/plain": [
       "<matplotlib.image.AxesImage at 0x7efed1b7b220>"
      ]
     },
     "execution_count": 67,
     "metadata": {},
     "output_type": "execute_result"
    },
    {
     "data": {
      "image/png": "[encoded data removed]",
      "text/plain": [
       "<Figure size 432x288 with 1 Axes>"
      ]
     },
     "metadata": {
      "needs_background": "light"
     },
     "output_type": "display_data"
    }
   ],
   "source": [
    "import matplotlib.pyplot as plt\n",
    "\n",
    "masks = np.asarray(Image.open(ann_path), dtype=np.uint32)\n",
    "masks = rgb2id(masks)\n",
    "print(\"CLASSES\", np.unique(masks))\n",
    "print(np.array([ann['id'] for ann in ann_info['segments_info']]))\n",
    "plt.imshow(masks)"
   ]
  },
  {
   "cell_type": "code",
   "execution_count": 9,
   "metadata": {},
   "outputs": [
    {
     "data": {
      "text/plain": [
       "(764, 1194)"
      ]
     },
     "execution_count": 9,
     "metadata": {},
     "output_type": "execute_result"
    }
   ],
   "source": [
    "masks.shape"
   ]
  },
  {
   "cell_type": "code",
   "execution_count": 7,
   "metadata": {},
   "outputs": [
    {
     "data": {
      "text/plain": [
       "numpy.ndarray"
      ]
     },
     "execution_count": 7,
     "metadata": {},
     "output_type": "execute_result"
    }
   ],
   "source": [
    "type(masks)"
   ]
  },
  {
   "cell_type": "code",
   "execution_count": 11,
   "metadata": {},
   "outputs": [
    {
     "data": {
      "text/plain": [
       "tensor([[[0, 0, 0,  ..., 0, 0, 0],\n",
       "         [0, 0, 0,  ..., 0, 0, 0],\n",
       "         [0, 0, 0,  ..., 0, 0, 0],\n",
       "         ...,\n",
       "         [0, 0, 0,  ..., 0, 0, 0],\n",
       "         [0, 0, 0,  ..., 0, 0, 0],\n",
       "         [0, 0, 0,  ..., 0, 0, 0]]], dtype=torch.uint8)"
      ]
     },
     "execution_count": 11,
     "metadata": {},
     "output_type": "execute_result"
    }
   ],
   "source": [
    "\n",
    "plt.imshow(masks)"
   ]
  },
  {
   "cell_type": "code",
   "execution_count": null,
   "metadata": {},
   "outputs": [],
   "source": []
  }
 ],
 "metadata": {
  "interpreter": {
   "hash": "5787de90dc6edb3e0c660babebd2cd439473d15e5535aa779cdd9806e0dfdead"
  },
  "kernelspec": {
   "display_name": "Python 3.9.12 ('detectron')",
   "language": "python",
   "name": "python3"
  },
  "language_info": {
   "codemirror_mode": {
    "name": "ipython",
    "version": 3
   },
   "file_extension": ".py",
   "mimetype": "text/x-python",
   "name": "python",
   "nbconvert_exporter": "python",
   "pygments_lexer": "ipython3",
   "version": "3.9.12"
  },
  "orig_nbformat": 4
 },
 "nbformat": 4,
 "nbformat_minor": 2
}
