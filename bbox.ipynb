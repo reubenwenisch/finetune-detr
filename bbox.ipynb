{
 "cells": [
  {
   "cell_type": "code",
   "execution_count": null,
   "metadata": {},
   "outputs": [],
   "source": [
    "image_id1 = 911\n",
    "image_id2 = 105\n",
    "image_id3 = 1395\n",
    "image_id4 = 1120\n",
    "image_id5 = 1390\n",
    "image_id6 = 689\n",
    "image_id7 = 1264\n",
    "image_id8 = 662"
   ]
  },
  {
   "cell_type": "code",
   "execution_count": 1,
   "metadata": {},
   "outputs": [],
   "source": [
    "file_name = {\n",
    "    \"file_name1\" : \"0047.jpg\",\n",
    "    \"file_name2\" : \"0200.jpg\",\n",
    "    \"file_name3\" : \"00303.jpg\",\n",
    "    \"file_name4\" : \"22-203.jpg\",      \n",
    "    \"file_name5\" : \"764-11.jpg\",\n",
    "    \"file_name6\" : \"00080.jpg\",\n",
    "    \"file_name7\" : \"00269.jpg\",\n",
    "    \"file_name8\" : \"001142.jpg\"}"
   ]
  },
  {
   "cell_type": "code",
   "execution_count": 2,
   "metadata": {},
   "outputs": [],
   "source": [
    "from pathlib import Path\n",
    "from PIL import Image\n",
    "import numpy as np\n",
    "import torch\n",
    "from panopticapi.utils import rgb2id\n",
    "from util.box_ops import masks_to_boxes\n",
    "import json\n",
    "\n",
    "# \"/home/reuben/Atom360/Learning/data/dataset/images\" \n",
    "coco_path = \"/home/wenisch/Atom360/AI/Learning/data/dataset/images\"\n",
    "coco_panoptic_path = \"panoptic/\"\n",
    "idx = 711"
   ]
  },
  {
   "cell_type": "code",
   "execution_count": 3,
   "metadata": {},
   "outputs": [],
   "source": [
    "image_set='train'\n",
    "\n",
    "img_folder_root = Path(coco_path)\n",
    "ann_folder_root = Path(coco_panoptic_path)\n",
    "assert img_folder_root.exists(), f'provided COCO path {img_folder_root} does not exist'\n",
    "assert ann_folder_root.exists(), f'provided COCO path {ann_folder_root} does not exist'\n",
    "mode = 'panoptic'   \n",
    "PATHS = {\n",
    "        \"train\": (\"train2017\", Path(\"annotations\") / f'{mode}_train2017.json'),\n",
    "        \"val\": (\"val2017\", Path(\"annotations\") / f'{mode}_val2017.json'),\n",
    "    }\n",
    "\n",
    "img_folder, ann_file = PATHS[image_set]\n",
    "img_folder_path = img_folder_root #/ img_folder\n",
    "ann_folder = ann_folder_root / f'{mode}_{img_folder}'\n",
    "ann_file = ann_folder_root / ann_file"
   ]
  },
  {
   "cell_type": "code",
   "execution_count": 4,
   "metadata": {},
   "outputs": [
    {
     "name": "stdout",
     "output_type": "stream",
     "text": [
      "seg info present\n"
     ]
    }
   ],
   "source": [
    "with open(ann_file, 'r') as f:\n",
    "    coco_ann = json.load(f)\n",
    "ann_info = coco_ann['annotations'][idx] if \"annotations\" in coco_ann else coco_ann['images'][idx]\n",
    "img_path = Path(img_folder_path) / ann_info['file_name'].replace('.png', '.jpg')\n",
    "ann_path = Path(ann_folder) / ann_info['file_name']\n",
    "img = Image.open(img_path).convert('RGB')\n",
    "w, h = img.size\n",
    "if \"segments_info\" in ann_info:\n",
    "    print(\"seg info present\")\n",
    "    masks = np.asarray(Image.open(ann_path), dtype=np.uint32)\n",
    "    masks = rgb2id(masks)\n",
    "    ids = np.array([ann['id'] for ann in ann_info['segments_info']])\n",
    "    masks = masks == ids[:, None, None]\n",
    "    masks = torch.as_tensor(masks, dtype=torch.uint8)\n",
    "    # labels = torch.tensor([ann['category_id'] for ann in ann_info['segments_info']], dtype=torch.int64\n",
    "target = {}\n",
    "target['image_id'] = torch.tensor([ann_info['image_id'] if \"image_id\" in ann_info else ann_info[\"id\"]])\n",
    "# if self.return_masks:\n",
    "target['masks'] = masks\n",
    "# target['labels'] = label\n",
    "# target[\"boxes\"] = masks_to_boxes(target['masks'])"
   ]
  },
  {
   "cell_type": "code",
   "execution_count": 5,
   "metadata": {},
   "outputs": [
    {
     "ename": "RuntimeError",
     "evalue": "min(): Expected reduction dim to be specified for input.numel() == 0. Specify the reduction dim with the 'dim' argument.",
     "output_type": "error",
     "traceback": [
      "\u001b[0;31m---------------------------------------------------------------------------\u001b[0m",
      "\u001b[0;31mRuntimeError\u001b[0m                              Traceback (most recent call last)",
      "\u001b[1;32m/home/wenisch/Atom360/AI/Learning/algo/finetune-detr/bbox.ipynb Cell 6'\u001b[0m in \u001b[0;36m<cell line: 2>\u001b[0;34m()\u001b[0m\n\u001b[1;32m      <a href='vscode-notebook-cell:/home/wenisch/Atom360/AI/Learning/algo/finetune-detr/bbox.ipynb#ch0000011?line=2'>3</a>\u001b[0m     boxes \u001b[39m=\u001b[39m torch\u001b[39m.\u001b[39mzeros((\u001b[39m0\u001b[39m, \u001b[39m4\u001b[39m), device\u001b[39m=\u001b[39mmasks\u001b[39m.\u001b[39mdevice)\n\u001b[1;32m      <a href='vscode-notebook-cell:/home/wenisch/Atom360/AI/Learning/algo/finetune-detr/bbox.ipynb#ch0000011?line=3'>4</a>\u001b[0m \u001b[39melse\u001b[39;00m:\n\u001b[0;32m----> <a href='vscode-notebook-cell:/home/wenisch/Atom360/AI/Learning/algo/finetune-detr/bbox.ipynb#ch0000011?line=4'>5</a>\u001b[0m     boxes \u001b[39m=\u001b[39m masks_to_boxes3(masks)\n",
      "File \u001b[0;32m~/anaconda3/envs/pytorch/lib/python3.8/site-packages/torchvision/ops/boxes.py:344\u001b[0m, in \u001b[0;36mmasks_to_boxes\u001b[0;34m(masks)\u001b[0m\n\u001b[1;32m    <a href='file:///home/wenisch/anaconda3/envs/pytorch/lib/python3.8/site-packages/torchvision/ops/boxes.py?line=340'>341</a>\u001b[0m \u001b[39mfor\u001b[39;00m index, mask \u001b[39min\u001b[39;00m \u001b[39menumerate\u001b[39m(masks):\n\u001b[1;32m    <a href='file:///home/wenisch/anaconda3/envs/pytorch/lib/python3.8/site-packages/torchvision/ops/boxes.py?line=341'>342</a>\u001b[0m     y, x \u001b[39m=\u001b[39m torch\u001b[39m.\u001b[39mwhere(mask \u001b[39m!=\u001b[39m \u001b[39m0\u001b[39m)\n\u001b[0;32m--> <a href='file:///home/wenisch/anaconda3/envs/pytorch/lib/python3.8/site-packages/torchvision/ops/boxes.py?line=343'>344</a>\u001b[0m     bounding_boxes[index, \u001b[39m0\u001b[39m] \u001b[39m=\u001b[39m torch\u001b[39m.\u001b[39;49mmin(x)\n\u001b[1;32m    <a href='file:///home/wenisch/anaconda3/envs/pytorch/lib/python3.8/site-packages/torchvision/ops/boxes.py?line=344'>345</a>\u001b[0m     bounding_boxes[index, \u001b[39m1\u001b[39m] \u001b[39m=\u001b[39m torch\u001b[39m.\u001b[39mmin(y)\n\u001b[1;32m    <a href='file:///home/wenisch/anaconda3/envs/pytorch/lib/python3.8/site-packages/torchvision/ops/boxes.py?line=345'>346</a>\u001b[0m     bounding_boxes[index, \u001b[39m2\u001b[39m] \u001b[39m=\u001b[39m torch\u001b[39m.\u001b[39mmax(x)\n",
      "\u001b[0;31mRuntimeError\u001b[0m: min(): Expected reduction dim to be specified for input.numel() == 0. Specify the reduction dim with the 'dim' argument."
     ]
    }
   ],
   "source": [
    "from torchvision.ops import masks_to_boxes as masks_to_boxes3\n",
    "if masks.numel() == 0:\n",
    "    boxes = torch.zeros((0, 4), device=masks.device)\n",
    "else:\n",
    "    boxes = masks_to_boxes3(masks)"
   ]
  },
  {
   "cell_type": "code",
   "execution_count": 5,
   "metadata": {},
   "outputs": [
    {
     "data": {
      "text/plain": [
       "torch.Size([3, 764, 1194])"
      ]
     },
     "execution_count": 5,
     "metadata": {},
     "output_type": "execute_result"
    }
   ],
   "source": [
    "target['masks'].shape"
   ]
  },
  {
   "cell_type": "code",
   "execution_count": 5,
   "metadata": {},
   "outputs": [
    {
     "name": "stdout",
     "output_type": "stream",
     "text": [
      "CLASSES [     115     6492    66136 ... 14519084 14711890 14913581]\n",
      "[11829830  3937500  2100087]\n"
     ]
    },
    {
     "data": {
      "text/plain": [
       "<matplotlib.image.AxesImage at 0x7fb5ff6570a0>"
      ]
     },
     "execution_count": 5,
     "metadata": {},
     "output_type": "execute_result"
    },
    {
     "data": {
      "image/png": "[encoded data removed]",
      "text/plain": [
       "<Figure size 432x288 with 1 Axes>"
      ]
     },
     "metadata": {
      "needs_background": "light"
     },
     "output_type": "display_data"
    }
   ],
   "source": [
    "import matplotlib.pyplot as plt\n",
    "\n",
    "masks = np.asarray(Image.open(ann_path), dtype=np.uint32)\n",
    "masks = rgb2id(masks)\n",
    "print(\"CLASSES\", np.unique(masks))\n",
    "print(np.array([ann['id'] for ann in ann_info['segments_info']]))\n",
    "plt.imshow(masks)"
   ]
  },
  {
   "cell_type": "code",
   "execution_count": 9,
   "metadata": {},
   "outputs": [
    {
     "data": {
      "text/plain": [
       "(764, 1194)"
      ]
     },
     "execution_count": 9,
     "metadata": {},
     "output_type": "execute_result"
    }
   ],
   "source": [
    "masks.shape"
   ]
  },
  {
   "cell_type": "code",
   "execution_count": 7,
   "metadata": {},
   "outputs": [
    {
     "data": {
      "text/plain": [
       "numpy.ndarray"
      ]
     },
     "execution_count": 7,
     "metadata": {},
     "output_type": "execute_result"
    }
   ],
   "source": [
    "type(masks)"
   ]
  },
  {
   "cell_type": "code",
   "execution_count": 11,
   "metadata": {},
   "outputs": [
    {
     "data": {
      "text/plain": [
       "tensor([[[0, 0, 0,  ..., 0, 0, 0],\n",
       "         [0, 0, 0,  ..., 0, 0, 0],\n",
       "         [0, 0, 0,  ..., 0, 0, 0],\n",
       "         ...,\n",
       "         [0, 0, 0,  ..., 0, 0, 0],\n",
       "         [0, 0, 0,  ..., 0, 0, 0],\n",
       "         [0, 0, 0,  ..., 0, 0, 0]]], dtype=torch.uint8)"
      ]
     },
     "execution_count": 11,
     "metadata": {},
     "output_type": "execute_result"
    }
   ],
   "source": [
    "\n",
    "plt.imshow(masks)"
   ]
  },
  {
   "cell_type": "code",
   "execution_count": null,
   "metadata": {},
   "outputs": [],
   "source": []
  }
 ],
 "metadata": {
  "interpreter": {
   "hash": "b1fba4fd74d59480c8732a5c9b6637dabef71547e1664ab4b6d38e4497ad398a"
  },
  "kernelspec": {
   "display_name": "Python 3.8.5 ('pytorch')",
   "language": "python",
   "name": "python3"
  },
  "language_info": {
   "codemirror_mode": {
    "name": "ipython",
    "version": 3
   },
   "file_extension": ".py",
   "mimetype": "text/x-python",
   "name": "python",
   "nbconvert_exporter": "python",
   "pygments_lexer": "ipython3",
   "version": "3.8.5"
  },
  "orig_nbformat": 4
 },
 "nbformat": 4,
 "nbformat_minor": 2
}
